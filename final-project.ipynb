{
 "cells": [
  {
   "cell_type": "markdown",
   "metadata": {},
   "source": [
    "Talk about the dataset, and what is the goal of this notebook."
   ]
  },
  {
   "cell_type": "code",
   "execution_count": null,
   "metadata": {},
   "outputs": [],
   "source": [
    "import numpy as np\n",
    "import pandas as pd\n",
    "import matplotlib.pyplot as plt\n",
    "import seaborn as sns\n",
    "from sklearn.model_selection import train_test_split\n",
    "from sklearn.linear_model import LinearRegression\n",
    "from sklearn.metrics import r2_score, mean_squared_error, mean_absolute_error"
   ]
  },
  {
   "cell_type": "code",
   "execution_count": null,
   "metadata": {},
   "outputs": [],
   "source": [
    "df = pd.read_csv('./Used Car Dataset.csv',index_col=0)"
   ]
  },
  {
   "cell_type": "code",
   "execution_count": null,
   "metadata": {},
   "outputs": [],
   "source": [
    "cdf = df.copy()\n",
    "cdf.head()"
   ]
  },
  {
   "cell_type": "code",
   "execution_count": null,
   "metadata": {},
   "outputs": [],
   "source": [
    "cdf.info()"
   ]
  },
  {
   "cell_type": "markdown",
   "metadata": {},
   "source": [
    "EDA"
   ]
  },
  {
   "cell_type": "code",
   "execution_count": null,
   "metadata": {},
   "outputs": [],
   "source": [
    "cdf.isna().sum()"
   ]
  },
  {
   "cell_type": "code",
   "execution_count": null,
   "metadata": {},
   "outputs": [],
   "source": [
    "cdf[cdf[['mileage(kmpl)','engine(cc)','max_power(bhp)','torque(Nm)']].isna().any(axis=1)]"
   ]
  },
  {
   "cell_type": "code",
   "execution_count": null,
   "metadata": {},
   "outputs": [],
   "source": [
    "cdf[cdf['car_name'] == '2011 Toyota Etios G']"
   ]
  },
  {
   "cell_type": "code",
   "execution_count": null,
   "metadata": {},
   "outputs": [],
   "source": [
    "cdf.dropna(inplace=True)\n",
    "cdf.info()"
   ]
  },
  {
   "cell_type": "code",
   "execution_count": null,
   "metadata": {},
   "outputs": [],
   "source": [
    "# drop unnessecary columns:\n",
    "cdf = cdf.drop('registration_year',axis=1)"
   ]
  },
  {
   "cell_type": "code",
   "execution_count": null,
   "metadata": {},
   "outputs": [],
   "source": [
    "cdf.duplicated().sum()"
   ]
  },
  {
   "cell_type": "code",
   "execution_count": null,
   "metadata": {},
   "outputs": [],
   "source": [
    "cdf.loc[cdf.duplicated]"
   ]
  },
  {
   "cell_type": "code",
   "execution_count": null,
   "metadata": {},
   "outputs": [],
   "source": [
    "cdf = cdf.drop_duplicates()\n",
    "cdf.duplicated().sum()"
   ]
  },
  {
   "cell_type": "code",
   "execution_count": null,
   "metadata": {},
   "outputs": [],
   "source": [
    "cdf.info()"
   ]
  },
  {
   "cell_type": "code",
   "execution_count": null,
   "metadata": {},
   "outputs": [],
   "source": [
    "cdf['car_brand'] = cdf['car_name'].str.split().str[2:].str.join(' ')\n",
    "cdf['main_brand'] = cdf['car_name'].str.split().str[1:2].str.join(' ')\n",
    "cdf"
   ]
  },
  {
   "cell_type": "code",
   "execution_count": null,
   "metadata": {},
   "outputs": [],
   "source": [
    "cdf.describe()"
   ]
  },
  {
   "cell_type": "code",
   "execution_count": null,
   "metadata": {},
   "outputs": [],
   "source": [
    "cdf.describe(include='object')"
   ]
  },
  {
   "cell_type": "code",
   "execution_count": null,
   "metadata": {},
   "outputs": [],
   "source": [
    "# check the top 10 of 'main_brands':\n",
    "\n",
    "brand_counts = pd.DataFrame(cdf['main_brand'].value_counts())\n",
    "brand_counts.head(10)"
   ]
  },
  {
   "cell_type": "code",
   "execution_count": null,
   "metadata": {},
   "outputs": [],
   "source": [
    "# chck the values of 'main_brand' column:\n",
    "\n",
    "cdf['main_brand'].value_counts().head(10).plot(kind='barh')\n",
    "plt.show()"
   ]
  },
  {
   "cell_type": "markdown",
   "metadata": {},
   "source": [
    "Explain why we are adding this col for country of manufactorer"
   ]
  },
  {
   "cell_type": "code",
   "execution_count": null,
   "metadata": {},
   "outputs": [],
   "source": [
    "brand_country_map = {\n",
    "    'Maruti': 'India',\n",
    "    'Hyundai': 'South Korea',\n",
    "    'Honda': 'Japan',\n",
    "    'Mercedes-Benz': 'Germany',\n",
    "    'Toyota': 'Japan',\n",
    "    'BMW': 'Germany',\n",
    "    'Tata': 'India',\n",
    "    'Audi': 'Germany',\n",
    "    'Mahindra': 'India',\n",
    "    'Ford': 'United States',\n",
    "    'Renault': 'France',\n",
    "    'Volkswagen': 'Germany',\n",
    "    'Kia': 'South Korea',\n",
    "    'Nissan': 'Japan',\n",
    "    'Skoda': 'Czech Republic',\n",
    "    'Jeep': 'United States',\n",
    "    'MG': 'United Kingdom',\n",
    "    'Volvo': 'Sweden',\n",
    "    'Jaguar': 'United Kingdom',\n",
    "    'Land': 'United Kingdom',\n",
    "    'Datsun': 'Japan',\n",
    "    'Mitsubishi': 'Japan',\n",
    "    'Porsche': 'Germany',\n",
    "    'Mini': 'United Kingdom',\n",
    "    'Isuzu': 'Japan',\n",
    "    'Lexus': 'Japan',\n",
    "    'Fiat': 'Italy',\n",
    "    'Lamborghini': 'Italy'\n",
    "}\n",
    "cdf['origin_country'] = cdf['main_brand'].map(brand_country_map)\n",
    "cdf.head()"
   ]
  },
  {
   "cell_type": "code",
   "execution_count": null,
   "metadata": {},
   "outputs": [],
   "source": [
    "# Visualize the origin_country:\n",
    "\n",
    "cdf['origin_country'].value_counts().plot(kind='pie')\n",
    "plt.figure(figsize=(15,5))\n",
    "#plt.ylabel('count of cars')\n",
    "plt.show()"
   ]
  },
  {
   "cell_type": "code",
   "execution_count": null,
   "metadata": {},
   "outputs": [],
   "source": [
    "pd.DataFrame(cdf['origin_country'].value_counts())"
   ]
  },
  {
   "cell_type": "code",
   "execution_count": null,
   "metadata": {},
   "outputs": [],
   "source": [
    "# check the values of 'insurance_validity' column:\n",
    "\n",
    "cdf['insurance_validity'].value_counts().plot(kind='bar')\n",
    "plt.show()"
   ]
  },
  {
   "cell_type": "code",
   "execution_count": null,
   "metadata": {},
   "outputs": [],
   "source": [
    "# check the values of 'fuel_type' column:\n",
    "\n",
    "cdf['fuel_type'].value_counts().plot(kind='bar')\n",
    "plt.show()"
   ]
  },
  {
   "cell_type": "code",
   "execution_count": null,
   "metadata": {},
   "outputs": [],
   "source": [
    "cdf[cdf['fuel_type'] == '5 Seats']"
   ]
  },
  {
   "cell_type": "code",
   "execution_count": null,
   "metadata": {},
   "outputs": [],
   "source": [
    "to_drop = cdf['fuel_type'] == '5 Seats'\n",
    "\n",
    "cdf = cdf.drop(cdf[to_drop].index)\n",
    "\n",
    "cdf['fuel_type'].value_counts().plot(kind='bar')\n",
    "plt.show()"
   ]
  },
  {
   "cell_type": "code",
   "execution_count": null,
   "metadata": {},
   "outputs": [],
   "source": [
    "cdf.head()"
   ]
  },
  {
   "cell_type": "code",
   "execution_count": null,
   "metadata": {},
   "outputs": [],
   "source": [
    "# check the values of 'seats' column:\n",
    "\n",
    "cdf['seats'].value_counts().plot(kind='bar')\n",
    "plt.show()"
   ]
  },
  {
   "cell_type": "code",
   "execution_count": null,
   "metadata": {},
   "outputs": [],
   "source": [
    "cdf[cdf['seats'] == 8]"
   ]
  },
  {
   "cell_type": "code",
   "execution_count": null,
   "metadata": {},
   "outputs": [],
   "source": [
    "# visualize the distrubution of 'kms_driven' column:\n",
    "\n",
    "plt.boxplot(cdf['kms_driven'],vert=False)\n",
    "plt.title('The distrubution of kms_driven')\n",
    "plt.xlabel('kms driven')\n",
    "plt.figure(figsize=(15,5))\n",
    "plt.show()"
   ]
  },
  {
   "cell_type": "code",
   "execution_count": null,
   "metadata": {},
   "outputs": [],
   "source": [
    "# transform the column into int:\n",
    "cdf['kms_driven'] = cdf['kms_driven'].astype('int64')\n",
    "\n",
    "cdf[cdf['kms_driven'] > 200000]"
   ]
  },
  {
   "cell_type": "code",
   "execution_count": null,
   "metadata": {},
   "outputs": [],
   "source": [
    "# check the values of 'ownsership' column:\n",
    "\n",
    "cdf['ownsership'].value_counts().plot(kind='barh')\n",
    "plt.show()"
   ]
  },
  {
   "cell_type": "code",
   "execution_count": null,
   "metadata": {},
   "outputs": [],
   "source": [
    "# filter the data that is wrong:\n",
    "curpt_rows = ~cdf['ownsership'].isin(['First Owner', 'Second Owner', 'Third Owner', 'Fifth Owner'])\n",
    "cdf[curpt_rows]"
   ]
  },
  {
   "cell_type": "code",
   "execution_count": null,
   "metadata": {},
   "outputs": [],
   "source": [
    "# drop the currpted rows:\n",
    "\n",
    "cdf = cdf.drop(cdf[curpt_rows].index)\n",
    "cdf['ownsership'].value_counts().plot(kind='barh')\n",
    "plt.show()"
   ]
  },
  {
   "cell_type": "code",
   "execution_count": null,
   "metadata": {},
   "outputs": [],
   "source": [
    "cdf.info()"
   ]
  },
  {
   "cell_type": "code",
   "execution_count": null,
   "metadata": {},
   "outputs": [],
   "source": [
    "# check the 'transmission' column:\n",
    "\n",
    "cdf['transmission'].value_counts().plot(kind='barh')\n",
    "plt.show()"
   ]
  },
  {
   "cell_type": "code",
   "execution_count": null,
   "metadata": {},
   "outputs": [],
   "source": [
    "# check the 'manufacturing_year' column:\n",
    "\n",
    "cdf['manufacturing_year'] = cdf['manufacturing_year'].astype('int64')\n",
    "\n",
    "cdf['manufacturing_year'].value_counts().plot(kind='barh')\n",
    "plt.show()"
   ]
  },
  {
   "cell_type": "code",
   "execution_count": null,
   "metadata": {},
   "outputs": [],
   "source": [
    "# check the values of 'insurance_validity' column:\n",
    "\n",
    "cdf['insurance_validity'].value_counts().plot(kind='bar')\n",
    "plt.show()"
   ]
  },
  {
   "cell_type": "code",
   "execution_count": null,
   "metadata": {},
   "outputs": [],
   "source": [
    "# replace the values od the 'insurance_validity' columns:\n",
    "\n",
    "cdf['insurance_validity'] = cdf['insurance_validity'].replace('Third Party','Third Party insurance')\n",
    "\n",
    "cdf['insurance_validity'].value_counts().plot(kind='bar')\n",
    "plt.show()"
   ]
  },
  {
   "cell_type": "code",
   "execution_count": null,
   "metadata": {},
   "outputs": [],
   "source": [
    "# check the 'mileage(kmpl)' column:\n",
    "\n",
    "counts = cdf['mileage(kmpl)'].value_counts()\n",
    "\n",
    "plt.boxplot(counts,vert=False)\n",
    "plt.show()"
   ]
  },
  {
   "cell_type": "code",
   "execution_count": null,
   "metadata": {},
   "outputs": [],
   "source": [
    "# check the 'engine(cc)' column:\n",
    "\n",
    "counts = cdf['engine(cc)']\n",
    "\n",
    "plt.boxplot(counts,vert=False)\n",
    "plt.show()"
   ]
  },
  {
   "cell_type": "code",
   "execution_count": null,
   "metadata": {},
   "outputs": [],
   "source": [
    "# maximum car produced is 8.4 Liters which is 8400 cc:\n",
    "\n",
    "curpt_rows2 = cdf['engine(cc)'] > 8400\n",
    "\n",
    "cdf[curpt_rows2]"
   ]
  },
  {
   "cell_type": "code",
   "execution_count": null,
   "metadata": {},
   "outputs": [],
   "source": [
    "# drop the currpted rows:\n",
    "\n",
    "cdf = cdf.drop(cdf[curpt_rows2].index)\n",
    "\n",
    "counts = cdf['engine(cc)']\n",
    "\n",
    "plt.boxplot(counts,vert=False)\n",
    "plt.show()"
   ]
  },
  {
   "cell_type": "code",
   "execution_count": null,
   "metadata": {},
   "outputs": [],
   "source": [
    "cdf.info()"
   ]
  },
  {
   "cell_type": "code",
   "execution_count": null,
   "metadata": {},
   "outputs": [],
   "source": [
    "# check the 'max_power(bhp)' values:\n",
    "\n",
    "counts = cdf['max_power(bhp)']\n",
    "\n",
    "plt.boxplot(counts,vert=False)\n",
    "plt.show()"
   ]
  },
  {
   "cell_type": "code",
   "execution_count": null,
   "metadata": {},
   "outputs": [],
   "source": [
    "# drop the data that have more than 3000 hoursepower:\n",
    "\n",
    "cdf = cdf.drop(cdf.index[cdf['max_power(bhp)'] >= 3000])\n",
    "cdf.info()"
   ]
  },
  {
   "cell_type": "code",
   "execution_count": null,
   "metadata": {},
   "outputs": [],
   "source": [
    "# check the 'torque(Nm)' values:\n",
    "\n",
    "counts = cdf['torque(Nm)']\n",
    "\n",
    "plt.boxplot(counts,vert=False)\n",
    "plt.show()"
   ]
  },
  {
   "cell_type": "code",
   "execution_count": null,
   "metadata": {},
   "outputs": [],
   "source": [
    "# Check the data for the cars that have more than 20000 Nm:\n",
    "\n",
    "curpt_rows3 = cdf[cdf['torque(Nm)'] > 20000]\n",
    "\n",
    "curpt_rows3"
   ]
  },
  {
   "cell_type": "code",
   "execution_count": null,
   "metadata": {},
   "outputs": [],
   "source": [
    "# check the 'torque(Nm)' values:\n",
    "\n",
    "counts = cdf['torque(Nm)']\n",
    "\n",
    "plt.boxplot(counts,vert=False)\n",
    "plt.show()"
   ]
  },
  {
   "cell_type": "code",
   "execution_count": null,
   "metadata": {},
   "outputs": [],
   "source": [
    "# drop the data that have more 20,000 Nm:\n",
    "\n",
    "cdf = cdf.drop(curpt_rows3.index)\n",
    "cdf.info()"
   ]
  },
  {
   "cell_type": "code",
   "execution_count": null,
   "metadata": {},
   "outputs": [],
   "source": [
    "# visiualize the distrubution of the tourque column:\n",
    "\n",
    "counts = cdf['torque(Nm)']\n",
    "\n",
    "plt.boxplot(counts,vert=False)\n",
    "plt.show()"
   ]
  },
  {
   "cell_type": "code",
   "execution_count": null,
   "metadata": {},
   "outputs": [],
   "source": [
    "# check the for the price column:\n",
    "\n",
    "counts = cdf['price(in lakhs)']\n",
    "\n",
    "plt.boxplot(counts,vert=False)\n",
    "plt.show()"
   ]
  },
  {
   "cell_type": "code",
   "execution_count": null,
   "metadata": {},
   "outputs": [],
   "source": [
    "curpt_rows4 = cdf[cdf['price(in lakhs)'] > 17]\n",
    "curpt_rows4.count()"
   ]
  },
  {
   "cell_type": "code",
   "execution_count": null,
   "metadata": {},
   "outputs": [],
   "source": [
    "cdf = cdf.drop(curpt_rows4.index)\n",
    "cdf.info()"
   ]
  },
  {
   "cell_type": "code",
   "execution_count": null,
   "metadata": {},
   "outputs": [],
   "source": [
    "# check the for the price column( after removing outliers):\n",
    "\n",
    "counts = cdf['price(in lakhs)']\n",
    "\n",
    "plt.boxplot(counts,vert=False)\n",
    "plt.show()"
   ]
  },
  {
   "cell_type": "code",
   "execution_count": null,
   "metadata": {},
   "outputs": [],
   "source": [
    "# manually Encode some Ordinal columns by giving the better the feature the higher the value:\n",
    "\n",
    "cdf['ownsership'] = cdf['ownsership'].replace({'First Owner' : 3, \n",
    "                                                'Second Owner': 2, \n",
    "                                                'Third Owner' : 1\n",
    "                                               })\n",
    "\n",
    "cdf['transmission'] = cdf['transmission'].replace({'Manual' : 1,\n",
    "                                                   'Automatic' : 2\n",
    "                                                    })\n",
    "\n",
    "cdf['fuel_type'] = cdf['fuel_type'].replace({'Petrol' : 3,\n",
    "                                                'Diesel' : 2,\n",
    "                                                'CNG' : 1\n",
    "                                               })\n",
    "\n",
    "# Drop the 'car_brand' and the 'main_brand' columns:\n",
    "\n",
    "cdf = cdf.drop(['main_brand','car_brand'],axis=1)\n",
    "\n",
    "cdf.head(10)"
   ]
  },
  {
   "cell_type": "code",
   "execution_count": null,
   "metadata": {},
   "outputs": [],
   "source": [
    "# seperate the numerecal columns from the categorical ones:\n",
    "\n",
    "cdf = cdf.drop('car_name',axis=1)\n",
    "\n",
    "num_col = cdf.select_dtypes(include=['int64', 'float64']).columns\n",
    "cat_col = cdf.select_dtypes(exclude=['int64', 'float64']).columns"
   ]
  },
  {
   "cell_type": "code",
   "execution_count": null,
   "metadata": {},
   "outputs": [],
   "source": [
    "# check the correlation between the price and all numeric features:\n",
    "\n",
    "corr_matrix = cdf[num_col].corr()\n",
    "sns.heatmap(corr_matrix,annot=True)\n",
    "plt.figure(figsize=(15,15))\n",
    "plt.show()"
   ]
  },
  {
   "cell_type": "code",
   "execution_count": null,
   "metadata": {},
   "outputs": [],
   "source": [
    "# try to spot a linear correlation between price and all the numeric features:\n",
    "\n",
    "sns.pairplot(cdf,hue='transmission')\n",
    "plt.show()"
   ]
  },
  {
   "cell_type": "code",
   "execution_count": null,
   "metadata": {},
   "outputs": [],
   "source": [
    "cdf[cat_col]"
   ]
  },
  {
   "cell_type": "code",
   "execution_count": null,
   "metadata": {},
   "outputs": [],
   "source": [
    "cdf.info()"
   ]
  },
  {
   "cell_type": "code",
   "execution_count": null,
   "metadata": {},
   "outputs": [],
   "source": [
    "cdf = pd.get_dummies(cdf,columns=['insurance_validity','origin_country'])    ######## find out what get_dummies is\n",
    "cdf"
   ]
  },
  {
   "cell_type": "code",
   "execution_count": null,
   "metadata": {},
   "outputs": [],
   "source": [
    "X = cdf.drop('price(in lakhs)',axis=1)\n",
    "Y = cdf['price(in lakhs)']"
   ]
  },
  {
   "cell_type": "code",
   "execution_count": null,
   "metadata": {},
   "outputs": [],
   "source": [
    "x_train,x_test,y_train,y_test = train_test_split(X,Y,test_size=0.3,random_state=0)"
   ]
  },
  {
   "cell_type": "markdown",
   "metadata": {},
   "source": [
    "Feature Selection"
   ]
  },
  {
   "cell_type": "code",
   "execution_count": null,
   "metadata": {},
   "outputs": [],
   "source": [
    "#Do Feature Selection"
   ]
  },
  {
   "cell_type": "markdown",
   "metadata": {},
   "source": [
    "Model Training"
   ]
  },
  {
   "cell_type": "code",
   "execution_count": null,
   "metadata": {},
   "outputs": [],
   "source": [
    "model = LinearRegression()\n",
    "model.fit(x_train, y_train)"
   ]
  },
  {
   "cell_type": "code",
   "execution_count": null,
   "metadata": {},
   "outputs": [],
   "source": [
    "y_pred = model.predict(x_test)\n",
    "\n",
    "rmse = np.sqrt(mean_squared_error(y_test, y_pred))\n",
    "mse = mean_squared_error(y_test, y_pred)\n",
    "r2 = r2_score(y_test, y_pred)\n",
    "\n",
    "print(f'rmse is {rmse} \\n mse is {mse} \\n r2 is {r2}')"
   ]
  },
  {
   "cell_type": "code",
   "execution_count": null,
   "metadata": {},
   "outputs": [],
   "source": []
  }
 ],
 "metadata": {
  "kernelspec": {
   "display_name": "Python 3",
   "language": "python",
   "name": "python3"
  },
  "language_info": {
   "codemirror_mode": {
    "name": "ipython",
    "version": 3
   },
   "file_extension": ".py",
   "mimetype": "text/x-python",
   "name": "python",
   "nbconvert_exporter": "python",
   "pygments_lexer": "ipython3",
   "version": "3.12.3"
  }
 },
 "nbformat": 4,
 "nbformat_minor": 2
}
